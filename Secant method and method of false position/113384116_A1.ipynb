{
 "cells": [
  {
   "cell_type": "markdown",
   "metadata": {
    "deletable": false,
    "editable": false
   },
   "source": [
    "# AM2061/AM6004: Assignment 1"
   ]
  },
  {
   "cell_type": "markdown",
   "metadata": {
    "deletable": false,
    "editable": false
   },
   "source": [
    "## Submission\n",
    "\n",
    "This assignment must be **your own work**. Remember the Plagarism Policy that you agreed to (near the top of the 2022-AM2061-AM6004 Modules page on Canvas).\n",
    "\n",
    "Please submit your assignment electronically:\n",
    "- Save the notebook (*studentID*_A1.ipynb).\n",
    "- Upload the notebook to the Assignment 1 submission on Canvas.\n",
    "\n",
    "**If you submit this assignment in late or to the wrong location, a mark of zero will be recorded unless you make a case for mitigation by submitting supporting documentation (e.g. medical certificates) to the School of Mathematical Sciences Office <sms@ucc.ie>.**\n",
    "\n",
    "\n",
    "*Note: For this assignment you should only ever import math, NumPy and (optional) Matplotlib. For these exercises, it is not necessary, but might help you, to plot relevant functions using Matplotlib. Be sure to provide comments for crucial lines of code stating their function.*"
   ]
  },
  {
   "cell_type": "markdown",
   "metadata": {
    "deletable": false,
    "editable": false
   },
   "source": [
    "Before you submit this assignment, make sure everything runs as expected. First, **restart the kernel** (in the menubar, select Kernel$\\rightarrow$Restart) and then **run all cells** (in the menubar, select Cell$\\rightarrow$Run All).\n",
    "\n",
    "Make sure you fill in any place that says `YOUR CODE HERE` or \"YOUR ANSWER HERE\", as well as your name and student ID below:"
   ]
  },
  {
   "cell_type": "code",
   "execution_count": 1,
   "metadata": {},
   "outputs": [],
   "source": [
    "NAME = \"Patrick Falvey\"\n",
    "ID = \"113384116\""
   ]
  },
  {
   "cell_type": "code",
   "execution_count": 1,
   "metadata": {
    "deletable": false,
    "editable": false
   },
   "outputs": [],
   "source": [
    "%matplotlib inline\n",
    "import matplotlib.pyplot as plt\n",
    "import numpy as np"
   ]
  },
  {
   "cell_type": "markdown",
   "metadata": {
    "deletable": false,
    "editable": false
   },
   "source": [
    "## Secant method and method of false position (10 marks)\n",
    "\n",
    "Rayleigh waves are acoustic waves that travel along the surface of solids. The equation\n",
    "$$W^{3\\ }-8 W^{2\\ }+\\ 8 W \\left(3-2\\eta\\right)\\ = \\ 16\\left(1-\\eta\\right)$$\n",
    "relates a scaled wave speed $W$ to the parameter $\\eta$, which depends on material properties. \n",
    "\n",
    "Below you will solve this equation numerically.\n",
    "\n",
    "Provide a Python implementation of the secant method below.\n",
    "Let accuracy tolerance $TOL$ and maximum number of iterations $N_0$ be parameters of the method. Print for each case the approximated root at every iteration step."
   ]
  },
  {
   "cell_type": "code",
   "execution_count": 62,
   "metadata": {
    "nbgrader": {
     "grade": false,
     "grade_id": "cell-a6cdee4f42381311",
     "locked": false,
     "schema_version": 3,
     "solution": true,
     "task": false
    }
   },
   "outputs": [],
   "source": [
    "def secant(f, p0, p1, TOL, N0):\n",
    "    '''Secant method to find a root of function f \n",
    "        using initial guesses p0 and p1 \n",
    "        within accuracy TOL\n",
    "        within a maximum of N0 steps\n",
    "        usage: secant(f, p0, p1, TOL, N0)\n",
    "          \n",
    "\n",
    "    Parameters\n",
    "    ----------\n",
    "    f: function\n",
    "    p0, p1: intial guesses\n",
    "    TOL: tolerance (absolute value)          \n",
    "    N0: maximum number of steps\n",
    "    \n",
    "    Returns\n",
    "    -------\n",
    "    p_n : number\n",
    "\n",
    "    Example (using the lambda function)\n",
    "    -----------------------------------\n",
    "    >>> f = lambda x: x**2 - x - 2\n",
    "    >>> secant(f1, 1.5, 2.5, 1e-10, 25)\n",
    "    2.0\n",
    "    '''\n",
    "    ### YOUR CODE HERE ###\n",
    "    \n",
    "    if f(p0)*f(p1)>=0:\n",
    "        print(\"Interval contains no or more than one root\")\n",
    "        return None\n",
    "    \n",
    "    p0_n = p0\n",
    "    p1_n = p1\n",
    "    \n",
    "    i = 2\n",
    "    while i <= N0:\n",
    "        \n",
    "        p_n = p1_n - f(p1_n) * (p1_n - p0_n) / (f(p1_n) - f(p0_n)) #Compute pi\n",
    "        \n",
    "        print ('{0:2.0f}  {1:.9f}  {2:.9f}  {3:.9f}'.format(i, p0_n, p1_n, p_n) )\n",
    "        \n",
    "        if abs(p_n - p1_n) < TOL:\n",
    "            print(\"solution found: The procedure was successful.\") \n",
    "            return p_n\n",
    "        \n",
    "        i += 1 #i=i+1, increases the value of n by 1\n",
    "        \n",
    "        p0_n = p1_n\n",
    "        p1_n = p_n\n",
    "        \n",
    "    print(\"Secant method failed after N0 iterations! No convergence!\")\n",
    "    "
   ]
  },
  {
   "cell_type": "markdown",
   "metadata": {
    "deletable": false,
    "editable": false
   },
   "source": [
    "Using the secant method with $TOL = 10^{-8}$ and $N_0 = 30$, approximate the Rayleigh wave speed for the following cases:\n",
    "\n",
    "### Case A: \n",
    "$\\eta=0.3$ with initial guesses $0.0$ and $5.0$."
   ]
  },
  {
   "cell_type": "code",
   "execution_count": 63,
   "metadata": {
    "nbgrader": {
     "grade": false,
     "grade_id": "cell-3c549cadad6617c0",
     "locked": false,
     "schema_version": 3,
     "solution": true,
     "task": false
    },
    "scrolled": false
   },
   "outputs": [
    {
     "name": "stdout",
     "output_type": "stream",
     "text": [
      " 2  0.000000000  5.000000000  2.666666667\n",
      " 3  5.000000000  2.666666667  2.040268456\n",
      " 4  2.666666667  2.040268456  3.858006918\n",
      " 5  2.040268456  3.858006918  5.003604832\n",
      " 6  3.858006918  5.003604832  3.695564436\n",
      " 7  5.003604832  3.695564436  3.552977476\n",
      " 8  3.695564436  3.552977476  2.140706357\n",
      " 9  3.552977476  2.140706357  4.125088894\n",
      "10  2.140706357  4.125088894  8.281551958\n",
      "11  4.125088894  8.281551958  4.073090452\n",
      "12  8.281551958  4.073090452  4.025835097\n",
      "13  4.073090452  4.025835097  3.558147427\n",
      "14  4.025835097  3.558147427  3.046211901\n",
      "15  3.558147427  3.046211901  4.586831129\n",
      "16  3.046211901  4.586831129  2.502618278\n",
      "17  4.586831129  2.502618278  0.590790222\n",
      "18  2.502618278  0.590790222  1.551276497\n",
      "19  0.590790222  1.551276497  1.016718893\n",
      "20  1.551276497  1.016718893  0.716654463\n",
      "21  1.016718893  0.716654463  0.871854920\n",
      "22  0.716654463  0.871854920  0.857399183\n",
      "23  0.871854920  0.857399183  0.855914029\n",
      "24  0.857399183  0.855914029  0.855930688\n",
      "25  0.855914029  0.855930688  0.855930671\n",
      "26  0.855930688  0.855930671  0.855930671\n",
      "solution found: The procedure was successful.\n"
     ]
    },
    {
     "data": {
      "text/plain": [
       "0.8559306705440363"
      ]
     },
     "execution_count": 63,
     "metadata": {},
     "output_type": "execute_result"
    }
   ],
   "source": [
    "### YOUR CODE HERE ###\n",
    "\n",
    "def f1(x):\n",
    "    return x**3 - 8*x**2 + 8*x*(3 - 2*n) - 16*(1-n)\n",
    "\n",
    "n = 0.3\n",
    "\n",
    "secant(f1,0.0,5.0,1e-8,30)"
   ]
  },
  {
   "cell_type": "markdown",
   "metadata": {
    "deletable": false,
    "editable": false
   },
   "source": [
    "### Case B: \n",
    "$\\eta=0.5$ with initial guesses $0.0$ and $1.0$."
   ]
  },
  {
   "cell_type": "code",
   "execution_count": 64,
   "metadata": {
    "nbgrader": {
     "grade": false,
     "grade_id": "cell-12dd520a6368830a",
     "locked": false,
     "schema_version": 3,
     "solution": true,
     "task": false
    }
   },
   "outputs": [
    {
     "name": "stdout",
     "output_type": "stream",
     "text": [
      " 2  0.000000000  1.000000000  0.888888889\n",
      " 3  1.000000000  0.888888889  0.719723183\n",
      " 4  0.888888889  0.719723183  0.770052772\n",
      " 5  0.719723183  0.770052772  0.764202580\n",
      " 6  0.770052772  0.764202580  0.763930303\n",
      " 7  0.764202580  0.763930303  0.763932023\n",
      " 8  0.763930303  0.763932023  0.763932023\n",
      "solution found: The procedure was successful.\n"
     ]
    },
    {
     "data": {
      "text/plain": [
       "0.7639320225002111"
      ]
     },
     "execution_count": 64,
     "metadata": {},
     "output_type": "execute_result"
    }
   ],
   "source": [
    "### YOUR CODE HERE ###\n",
    "\n",
    "n = 0.5\n",
    "\n",
    "def f1(x):\n",
    "    return x**3 - 8*x**2 + 8*x*(3 - 2*n) - 16*(1-n)\n",
    "\n",
    "secant(f1,0.0,1.0,1e-8,30)"
   ]
  },
  {
   "cell_type": "markdown",
   "metadata": {
    "deletable": false,
    "editable": false
   },
   "source": [
    "### Case C: \n",
    "$\\eta=0.5$ with initial guesses $1.9$ and $5.0$."
   ]
  },
  {
   "cell_type": "code",
   "execution_count": 65,
   "metadata": {},
   "outputs": [
    {
     "name": "stdout",
     "output_type": "stream",
     "text": [
      " 2  1.900000000  5.000000000  2.247706422\n",
      " 3  5.000000000  2.247706422  0.658058229\n",
      " 4  2.247706422  0.658058229  -1.650298994\n",
      " 5  0.658058229  -1.650298994  0.683066531\n",
      " 6  -1.650298994  0.683066531  0.701859440\n",
      " 7  0.683066531  0.701859440  0.759313517\n",
      " 8  0.701859440  0.759313517  0.763652022\n",
      " 9  0.759313517  0.763652022  0.763930693\n",
      "10  0.763652022  0.763930693  0.763932022\n",
      "11  0.763930693  0.763932022  0.763932023\n",
      "solution found: The procedure was successful.\n"
     ]
    },
    {
     "data": {
      "text/plain": [
       "0.7639320225002099"
      ]
     },
     "execution_count": 65,
     "metadata": {},
     "output_type": "execute_result"
    }
   ],
   "source": [
    "### YOUR CODE HERE ###\n",
    "\n",
    "n = 0.5\n",
    "\n",
    "def f1(x):\n",
    "    return x**3 - 8*x**2 + 8*x*(3 - 2*n) - 16*(1-n)\n",
    "\n",
    "secant(f1,1.9,5.0,1e-8,30)"
   ]
  },
  {
   "cell_type": "markdown",
   "metadata": {
    "deletable": false,
    "editable": false
   },
   "source": [
    "Create a function below for the method of false position. \n",
    "Again, let $TOL$ and $N_0$ be parameters and print the approximated root at every iteration step."
   ]
  },
  {
   "cell_type": "code",
   "execution_count": 66,
   "metadata": {
    "nbgrader": {
     "grade": false,
     "grade_id": "cell-e77f07af5a25b4e3",
     "locked": false,
     "schema_version": 3,
     "solution": true,
     "task": false
    }
   },
   "outputs": [],
   "source": [
    "def falseposition(f, p0, p1, TOL, N0):\n",
    "    '''Method of false position to find a root of function f \n",
    "        using initial guesses p0 and p1 \n",
    "        within accuracy TOL\n",
    "        within a maximum of N0 steps\n",
    "        usage: secant(f, p0, p1, TOL, N0)\n",
    "          \n",
    "\n",
    "    Parameters\n",
    "    ----------\n",
    "    f: function\n",
    "    p0, p1: intial guesses\n",
    "    TOL: tolerance (absolute value)          \n",
    "    N0: maximum number of steps\n",
    "    \n",
    "    Returns\n",
    "    -------\n",
    "    p_n : number\n",
    "\n",
    "    Example (using the lambda function)\n",
    "    -----------------------------------\n",
    "    >>> f = lambda x: x**2 - x - 2\n",
    "    >>> falseposition(f, 1.5, 2.5, 1e-10, 25)\n",
    "    2.0\n",
    "    '''\n",
    "    ### YOUR CODE HERE ###\n",
    "    \n",
    "    if f(p0)*f(p1)>=0:\n",
    "        print(\"Interval contains no or more than one root\")\n",
    "        return None\n",
    "    \n",
    "    p0_n = p0\n",
    "    p1_n = p1\n",
    " \n",
    "    i = 2\n",
    "    while i <= N0:\n",
    "             \n",
    "        p_n = p1_n - f(p1_n) * (p1_n - p0_n) / (f(p1_n) - f(p0_n)) #Compute pi\n",
    "        \n",
    "        \n",
    "        print ('{0:2.0f}  {1:.9f}  {2:.9f}  {3:.9f}'.format(i, p0_n, p1_n, p_n) )\n",
    "        \n",
    "        if abs((p_n - p1_n)/p1_n) < TOL:\n",
    "            print(\"solution found: The procedure was successful.\") \n",
    "            return p_n\n",
    "        \n",
    "        i += 1 #i=i+1, increases the value of n by 1\n",
    "      \n",
    "        if f(p1_n) * f(p_n) < 0: # both functions have the same sign. therefore, the root doesn't lie between them.\n",
    "            p0_n = p1_n\n",
    "               \n",
    "        p1_n = p_n\n",
    "          \n",
    "    print(\"Secant method failed after N0 iterations! No convergence!\")\n",
    "    "
   ]
  },
  {
   "cell_type": "markdown",
   "metadata": {
    "deletable": false,
    "editable": false
   },
   "source": [
    "Now approximate the wave speeds for the following cases using the method of false position (again  with $TOL = 10^{-8}$ and $N_0 = 30$). \n",
    "\n",
    "### Case D: \n",
    "$\\eta=0.3$ with initial guesses $0.0$ and $5.0$."
   ]
  },
  {
   "cell_type": "code",
   "execution_count": 67,
   "metadata": {
    "nbgrader": {
     "grade": false,
     "grade_id": "cell-e4134841b5f38bb1",
     "locked": false,
     "schema_version": 3,
     "solution": true,
     "task": false
    },
    "scrolled": true
   },
   "outputs": [
    {
     "name": "stdout",
     "output_type": "stream",
     "text": [
      " 2  0.000000000  5.000000000  2.666666667\n",
      " 3  0.000000000  2.666666667  2.250000000\n",
      " 4  0.000000000  2.250000000  1.788423154\n",
      " 5  0.000000000  1.788423154  1.384241766\n",
      " 6  0.000000000  1.384241766  1.115294446\n",
      " 7  0.000000000  1.115294446  0.972093442\n",
      " 8  0.000000000  0.972093442  0.905546772\n",
      " 9  0.000000000  0.905546772  0.876668356\n",
      "10  0.000000000  0.876668356  0.864517685\n",
      "11  0.000000000  0.864517685  0.859472465\n",
      "12  0.000000000  0.859472465  0.857389147\n",
      "13  0.000000000  0.857389147  0.856530854\n",
      "14  0.000000000  0.856530854  0.856177587\n",
      "15  0.000000000  0.856177587  0.856032240\n",
      "16  0.000000000  0.856032240  0.855972450\n",
      "17  0.000000000  0.855972450  0.855947855\n",
      "18  0.000000000  0.855947855  0.855937739\n",
      "19  0.000000000  0.855937739  0.855933578\n",
      "20  0.000000000  0.855933578  0.855931866\n",
      "21  0.000000000  0.855931866  0.855931162\n",
      "22  0.000000000  0.855931162  0.855930873\n",
      "23  0.000000000  0.855930873  0.855930754\n",
      "24  0.000000000  0.855930754  0.855930705\n",
      "25  0.000000000  0.855930705  0.855930685\n",
      "26  0.000000000  0.855930685  0.855930676\n",
      "solution found: The procedure was successful.\n"
     ]
    },
    {
     "data": {
      "text/plain": [
       "0.8559306763354302"
      ]
     },
     "execution_count": 67,
     "metadata": {},
     "output_type": "execute_result"
    }
   ],
   "source": [
    "### YOUR CODE HERE ###\n",
    "\n",
    "def f1(x):\n",
    "    return x**3 - 8*x**2 + 8*x*(3 - 2*n) - 16*(1-n)\n",
    "\n",
    "n = 0.3\n",
    "\n",
    "falseposition(f1,0.0,5.0,1e-8,30)"
   ]
  },
  {
   "cell_type": "markdown",
   "metadata": {
    "deletable": false,
    "editable": false
   },
   "source": [
    "### Case E: \n",
    "$\\eta=0.5$ with initial guesses $1.9$ and $5.0$."
   ]
  },
  {
   "cell_type": "code",
   "execution_count": 68,
   "metadata": {},
   "outputs": [
    {
     "name": "stdout",
     "output_type": "stream",
     "text": [
      " 2  1.900000000  5.000000000  2.247706422\n",
      " 3  1.900000000  2.247706422  1.989201132\n",
      " 4  2.247706422  1.989201132  1.998931786\n",
      " 5  2.247706422  1.998931786  1.999895323\n",
      " 6  2.247706422  1.999895323  1.999989752\n",
      " 7  2.247706422  1.999989752  1.999998997\n",
      " 8  2.247706422  1.999998997  1.999999902\n",
      " 9  2.247706422  1.999999902  1.999999990\n",
      "10  2.247706422  1.999999990  1.999999999\n",
      "solution found: The procedure was successful.\n"
     ]
    },
    {
     "data": {
      "text/plain": [
       "1.9999999990589472"
      ]
     },
     "execution_count": 68,
     "metadata": {},
     "output_type": "execute_result"
    }
   ],
   "source": [
    "### YOUR CODE HERE ###\n",
    "\n",
    "def f1(x):\n",
    "    return x**3 - 8*x**2 + 8*x*(3 - 2*n) - 16*(1-n)\n",
    "\n",
    "n = 0.5\n",
    "\n",
    "falseposition(f1,1.9,5.0,1e-8,30)"
   ]
  },
  {
   "cell_type": "markdown",
   "metadata": {
    "deletable": false,
    "editable": false
   },
   "source": [
    "Case C and case E are actually with the same value of $\\eta$ and initial guesses. Explain how it is possible that the solutions are different."
   ]
  },
  {
   "cell_type": "code",
   "execution_count": 69,
   "metadata": {},
   "outputs": [
    {
     "data": {
      "image/png": "[encoded data removed]",
      "text/plain": [
       "<Figure size 432x288 with 1 Axes>"
      ]
     },
     "metadata": {
      "needs_background": "light"
     },
     "output_type": "display_data"
    }
   ],
   "source": [
    "n=0.5\n",
    "\n",
    "x1 = np.linspace(0,6,200)\n",
    "y0 = np.linspace(0,0,200)\n",
    "y1 = f1(x1)\n",
    "\n",
    "plt.plot(x1, y1, label=\"f1(x)\")\n",
    "\n",
    "#plot y=0\n",
    "plt.axhline(y=0, color='r', linestyle='-')\n",
    "\n",
    "#plot interval\n",
    "plt.axvline(x=1.9, color='g', linestyle='-')\n",
    "plt.axvline(x=5, color='g', linestyle='-')\n",
    "\n",
    "plt.grid(True)\n"
   ]
  },
  {
   "cell_type": "markdown",
   "metadata": {
    "nbgrader": {
     "grade": true,
     "grade_id": "cell-e5acef6be8f8062c",
     "locked": false,
     "points": 3,
     "schema_version": 3,
     "solution": true,
     "task": false
    }
   },
   "source": [
    "For Case C, the interval is 1.9 & 5.0 and the root is 0.763932 (to 6 decimial places). As we can see in the plot provided, the root is located outside of the interval.\n",
    "\n",
    "For Case E, the interval is 1.9 & 5.0 and the root is 1.999999 (to 6 decimial places). As we can see in the plot provided, the root is located inside of the interval.\n",
    "\n",
    "The false position method - iterates through intervals that always contain a root. The Secant method from this example it's clear to see that the secant method is faster.\n",
    "\n",
    "Although the secant method is faster, it is not always guarrenteed to converge to find a root within the intial interval set. Whereas, as long as the initial interval contains a root it will converge to find a root within that initial interval."
   ]
  }
 ],
 "metadata": {
  "celltoolbar": "Edit Metadata",
  "kernelspec": {
   "display_name": "Python 3 (ipykernel)",
   "language": "python",
   "name": "python3"
  },
  "language_info": {
   "codemirror_mode": {
    "name": "ipython",
    "version": 3
   },
   "file_extension": ".py",
   "mimetype": "text/x-python",
   "name": "python",
   "nbconvert_exporter": "python",
   "pygments_lexer": "ipython3",
   "version": "3.9.7"
  }
 },
 "nbformat": 4,
 "nbformat_minor": 2
}
