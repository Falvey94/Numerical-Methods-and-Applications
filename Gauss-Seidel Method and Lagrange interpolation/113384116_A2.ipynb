{
 "cells": [
  {
   "cell_type": "markdown",
   "metadata": {
    "deletable": false,
    "editable": false
   },
   "source": [
    "# AM2061/AM6004: Assignment 2"
   ]
  },
  {
   "cell_type": "markdown",
   "metadata": {
    "deletable": false,
    "editable": false
   },
   "source": [
    "## Submission\n",
    "\n",
    "This assignment must be **your own work**. Remember the Plagiarism Policy that you agreed to (near the top of the 2022-AM2061-AM6004 Modules page on Canvas).\n",
    "\n",
    "Please submit your assignment electronically:\n",
    "- Save the notebook (*studentID*_A2.ipynb).\n",
    "- Upload the notebook to the Assignment 2 submission on Canvas.\n",
    "\n",
    "**If you submit this assignment in late or to the wrong location, a mark of zero will be recorded unless you make a case for mitigation by submitting supporting documentation (e.g. medical certificates) to the School of Mathematical Sciences Office <sms@ucc.ie>.**\n",
    "\n",
    "\n",
    "Note: \n",
    "- For this assignment you should only ever import math, NumPy and Matplotlib. \n",
    "- For these exercises, it is not necessary, but might help you, to plot relevant functions using Matplotlib. \n",
    "- Be sure to provide comments for crucial lines of code stating their function."
   ]
  },
  {
   "cell_type": "markdown",
   "metadata": {
    "deletable": false,
    "editable": false
   },
   "source": [
    "Before you submit this assignment, make sure everything runs as expected. First, **restart the kernel** (in the menubar, select Kernel$\\rightarrow$Restart) and then **run all cells** (in the menubar, select Cell$\\rightarrow$Run All).\n",
    "\n",
    "Make sure you fill in any place that says `YOUR CODE HERE` or \"YOUR ANSWER HERE\", as well as your name and student ID below:"
   ]
  },
  {
   "cell_type": "code",
   "execution_count": null,
   "metadata": {},
   "outputs": [],
   "source": [
    "NAME = \"Patrick Falvey\"\n",
    "ID = \"113384116\""
   ]
  },
  {
   "cell_type": "code",
   "execution_count": 1,
   "metadata": {},
   "outputs": [],
   "source": [
    "%matplotlib inline\n",
    "import matplotlib.pyplot as plt\n",
    "import numpy as np"
   ]
  },
  {
   "cell_type": "markdown",
   "metadata": {
    "deletable": false,
    "editable": false
   },
   "source": [
    "## Question 1: Gauss-Seidel Method (5 marks)\n",
    "\n",
    "(a) Create a Python function called `GaussSeidel` that solves a system of linear equations. You may assume that no row exchanges are required. Print the approximate error at each iteration using the $L_2$ norm. Let the initial guess be a zero vector. The function should return the solution as an array `x`."
   ]
  },
  {
   "cell_type": "code",
   "execution_count": 11,
   "metadata": {},
   "outputs": [],
   "source": [
    "def GaussSeidel(A, b, TOL, N):\n",
    "    '''Gauss-Seidel method for systems of linear equations \n",
    "          \n",
    "    Parameters\n",
    "    ----------\n",
    "    A: nxn matrix\n",
    "    b: vector of right-hand side\n",
    "    TOL: tolerance\n",
    "    N: maximum number of iterations\n",
    "    \n",
    "    Returns\n",
    "    -------\n",
    "    x : approximate solution to Ax = b or 'Maximum number of iterations exceeded'\n",
    "\n",
    "    Usage \n",
    "    -----------------------------------\n",
    "    >>> GaussSeidel(A, b, TOL, N, x0)\n",
    "    '''\n",
    "    ### BEGIN SOLUTION\n",
    "\n",
    "    x = np.zeros_like(b, dtype=np.double)\n",
    "    \n",
    "    print(\"Iteration {0}: {1}\".format(0, x)) #Print the iteration Number and the corresponfing output\n",
    "    \n",
    "    #Iterate\n",
    "    for k in range(1,N):\n",
    "        \n",
    "        x_old  = x.copy()  #Returns a copy of the given object x\n",
    "        \n",
    "        #print(\"Iteration {0}: {1}\".format(k, x)) #Print the iteration Number and the corresponfing output\n",
    "        \n",
    "        #Loop over rows\n",
    "        for i in range(A.shape[0]):\n",
    "            \n",
    "            s1 = np.dot(A[i,:i], x[:i])\n",
    "            s2 = np.dot(A[i,(i+1):], x_old[(i+1):])\n",
    "            x[i] = (b[i] - s1 - s2) / A[i ,i]\n",
    "        \n",
    "        L2 = np.linalg.norm(x - x_old) / np.linalg.norm(x)\n",
    "        print(\"Iteration {0}: {1}:  {2}\".format(k, x, L2)) #Print the iteration Number, the corresponding output and the approximate solution of each error\n",
    "         \n",
    "        #Stop condition \n",
    "        if L2 < TOL: #If error is less than the set tolerance\n",
    "            print(\"solution found: The procedure was successful.\") \n",
    "            return x\n",
    "                        \n",
    "    print(\"Gauss-Seide method failed after N0 iterations! No convergence!\")      \n",
    "    \n",
    "    ### END SOLUTION"
   ]
  },
  {
   "cell_type": "markdown",
   "metadata": {
    "deletable": false,
    "editable": false
   },
   "source": [
    "(b) Apply the Gauss-Seidel method to the cases below using a tolerance of $10^{-8}$ and a maximum number of $30$ iterations."
   ]
  },
  {
   "cell_type": "code",
   "execution_count": 12,
   "metadata": {},
   "outputs": [],
   "source": [
    "TOL = 1e-8 #tolerence\n",
    "N =  30 #max number of iterations"
   ]
  },
  {
   "cell_type": "markdown",
   "metadata": {
    "deletable": false,
    "editable": false
   },
   "source": [
    "Case A:\n",
    "\\begin{equation}\n",
    " \\left(\n",
    " \\begin{array}{cccc}\n",
    "  8 & 1 & 1 & 3 \\\\\n",
    "  5 & 8 & 0 & 2 \\\\\n",
    "  3 & 2 & 8 & 1 \\\\\n",
    "  4 & 1 & 0 & 8 \\\\\n",
    "  \\end{array}\n",
    " \\right)\n",
    " \\left(\n",
    " \\begin{array}{c}\n",
    "  x_1 \\\\\n",
    "  x_2 \\\\\n",
    "  x_3 \\\\\n",
    "  x_4\n",
    " \\end{array}\n",
    " \\right)\n",
    " =\n",
    " \\left(\n",
    " \\begin{array}{c}\n",
    "  -10 \\\\\n",
    "  -2 \\\\\n",
    "  -1 \\\\\n",
    "  -5\n",
    " \\end{array}\n",
    " \\right)\n",
    "\\end{equation}"
   ]
  },
  {
   "cell_type": "code",
   "execution_count": 13,
   "metadata": {},
   "outputs": [
    {
     "name": "stdout",
     "output_type": "stream",
     "text": [
      "Iteration 0: [0. 0. 0. 0.]\n",
      "Iteration 1: [-1.25        0.53125     0.2109375  -0.06640625]:  1.0\n",
      "Iteration 2: [-1.31787109  0.590271    0.22993469 -0.03984833]:  0.06541608963853272\n",
      "Iteration 3: [-1.33758259  0.5959512   0.23258671 -0.03070261]:  0.01525007176392442\n",
      "Iteration 4: [-1.34205376  0.59645925  0.23299317 -0.02853053]:  0.0033707720496755564\n",
      "Iteration 5: [-1.34298261  0.59649676  0.2330606  -0.02807079]:  0.0006983685185148499\n",
      "Iteration 6: [-1.34316812  0.59649778  0.23307245 -0.02797816]:  0.00013955498151800922\n",
      "Iteration 7: [-1.34320447  0.59649733  0.23307461 -0.02795993]:  2.735915835478084e-05\n",
      "Iteration 8: [-1.34321152  0.59649718  0.23307502 -0.02795639]:  5.309658033615057e-06\n",
      "Iteration 9: [-1.34321288  0.59649715  0.23307509 -0.0279557 ]:  1.0249275299587826e-06\n",
      "Iteration 10: [-1.34321314  0.59649714  0.23307511 -0.02795557]:  1.972746588465377e-07\n",
      "Iteration 11: [-1.34321319  0.59649714  0.23307511 -0.02795555]:  3.7912360567830246e-08\n",
      "Iteration 12: [-1.3432132   0.59649714  0.23307511 -0.02795554]:  7.280006053784723e-09\n",
      "solution found: The procedure was successful.\n"
     ]
    },
    {
     "data": {
      "text/plain": [
       "array([-1.3432132 ,  0.59649714,  0.23307511, -0.02795554])"
      ]
     },
     "execution_count": 13,
     "metadata": {},
     "output_type": "execute_result"
    }
   ],
   "source": [
    "#Create the corresponding matrix\n",
    "A = np.array([[8,1,1,3],\n",
    "             [5,8,0,2],\n",
    "             [3,2,8,1],\n",
    "             [4,1,0,8]])\n",
    "\n",
    "#Create the Solution Vector\n",
    "b =  np.array([-10,-2,-1,-5])\n",
    "\n",
    "#Run the model\n",
    "GaussSeidel(A, b, TOL, N)"
   ]
  },
  {
   "cell_type": "markdown",
   "metadata": {
    "deletable": false,
    "editable": false
   },
   "source": [
    "Case B:\n",
    "\\begin{equation}\n",
    " \\left(\n",
    " \\begin{array}{ccc}\n",
    "  2 & 1 & 1 \\\\\n",
    "  2 & 4 & 1 \\\\\n",
    "  -3 & 1 & -4 \\\\\n",
    "  \\end{array}\n",
    " \\right)\n",
    " \\left(\n",
    " \\begin{array}{c}\n",
    "  x_1 \\\\\n",
    "  x_2 \\\\\n",
    "  x_3\n",
    " \\end{array}\n",
    " \\right)\n",
    " =\n",
    " \\left(\n",
    " \\begin{array}{c}\n",
    "  0 \\\\\n",
    "  3 \\\\\n",
    "  -1\n",
    " \\end{array}\n",
    " \\right)\n",
    "\\end{equation}"
   ]
  },
  {
   "cell_type": "code",
   "execution_count": 14,
   "metadata": {},
   "outputs": [
    {
     "name": "stdout",
     "output_type": "stream",
     "text": [
      "Iteration 0: [0. 0. 0.]\n",
      "Iteration 1: [0.     0.75   0.4375]:  1.0\n",
      "Iteration 2: [-0.59375    0.9375     0.9296875]:  0.548251356365693\n",
      "Iteration 3: [-0.93359375  0.984375    1.19628906]:  0.24020213750296793\n",
      "Iteration 4: [-1.09033203  0.99609375  1.31677246]:  0.10009102450094513\n",
      "Iteration 5: [-1.15643311  0.99902344  1.36708069]:  0.04053744591789755\n",
      "Iteration 6: [-1.18305206  0.99975586  1.38722801]:  0.01605914107669381\n",
      "Iteration 7: [-1.19349194  0.99993896  1.39510369]:  0.006255921529573668\n",
      "Iteration 8: [-1.19752133  0.99998474  1.39813718]:  0.002407610982063807\n",
      "Iteration 9: [-1.19906096  0.99999619  1.39929477]:  0.000918766288259083\n",
      "Iteration 10: [-1.19964548  0.99999905  1.39973387]:  0.00034859129131612675\n",
      "Iteration 11: [-1.19986646  0.99999976  1.39989978]:  0.00013174642619531615\n",
      "Iteration 12: [-1.19994977  0.99999994  1.39996231]:  4.9662713805221473e-05\n",
      "Iteration 13: [-1.19998113  0.99999999  1.39998584]:  1.8688203773100093e-05\n",
      "Iteration 14: [-1.19999291  1.          1.39999468]:  7.024281631291608e-06\n",
      "Iteration 15: [-1.19999734  1.          1.399998  ]:  2.638161728048403e-06\n",
      "Iteration 16: [-1.199999    1.          1.39999925]:  9.903253632590994e-07\n",
      "Iteration 17: [-1.19999963  1.          1.39999972]:  3.716257878225001e-07\n",
      "Iteration 18: [-1.19999986  1.          1.39999989]:  1.3942312845966732e-07\n",
      "Iteration 19: [-1.19999995  1.          1.39999996]:  5.2299539849528896e-08\n",
      "Iteration 20: [-1.19999998  1.          1.39999999]:  1.9616294279601466e-08\n",
      "Iteration 21: [-1.19999999  1.          1.39999999]:  7.357102086761868e-09\n",
      "solution found: The procedure was successful.\n"
     ]
    },
    {
     "data": {
      "text/plain": [
       "array([-1.19999999,  1.        ,  1.39999999])"
      ]
     },
     "execution_count": 14,
     "metadata": {},
     "output_type": "execute_result"
    }
   ],
   "source": [
    "#Create the corresponding matrix\n",
    "A = np.array([[2,1,1],\n",
    "             [2,4,1],\n",
    "             [-3,1,-4]])\n",
    "\n",
    "#Create the Solution Vector\n",
    "b =  np.array([0,3,-1])\n",
    "\n",
    "#Run the model\n",
    "GaussSeidel(A, b, TOL, N)"
   ]
  },
  {
   "cell_type": "markdown",
   "metadata": {
    "deletable": false,
    "editable": false
   },
   "source": [
    "Case C:\n",
    "\\begin{equation}\n",
    " \\left(\n",
    " \\begin{array}{ccc}\n",
    "  2 & -2 & 1 \\\\\n",
    "  1 & 2 & 1 \\\\\n",
    "  2 & -4 & 1 \\\\\n",
    "  \\end{array}\n",
    " \\right)\n",
    " \\left(\n",
    " \\begin{array}{c}\n",
    "  x_1 \\\\\n",
    "  x_2 \\\\\n",
    "  x_3\n",
    " \\end{array}\n",
    " \\right)\n",
    " =\n",
    " \\left(\n",
    " \\begin{array}{c}\n",
    "  0 \\\\\n",
    "  1 \\\\\n",
    "  -1\n",
    " \\end{array}\n",
    " \\right)\n",
    "\\end{equation}"
   ]
  },
  {
   "cell_type": "code",
   "execution_count": 15,
   "metadata": {},
   "outputs": [
    {
     "name": "stdout",
     "output_type": "stream",
     "text": [
      "Iteration 0: [0. 0. 0.]\n",
      "Iteration 1: [0.  0.5 1. ]:  1.0\n",
      "Iteration 2: [ 0.  0. -1.]:  2.0615528128088303\n",
      "Iteration 3: [0.5  0.75 1.  ]:  1.6294699794083671\n",
      "Iteration 4: [ 0.25  -0.125 -2.   ]:  1.5524051294116996\n",
      "Iteration 5: [0.875  1.0625 1.5   ]:  1.8412490126228036\n",
      "Iteration 6: [ 0.3125  -0.40625 -3.25   ]:  1.5207777608002757\n",
      "Iteration 7: [1.21875  1.515625 2.625   ]:  1.9123040877642545\n",
      "Iteration 8: [ 0.203125  -0.9140625 -5.0625   ]:  1.5783725876573267\n",
      "Iteration 9: [1.6171875  2.22265625 4.65625   ]:  1.9067401395857637\n",
      "Iteration 10: [-0.10546875 -1.77539062 -7.890625  ]:  1.6419031908384811\n",
      "Iteration 11: [2.16992188 3.36035156 8.1015625 ]:  1.875987269075918\n",
      "Iteration 12: [ -0.69042969  -3.20556641 -12.44140625]:  1.6909022694395681\n",
      "Iteration 13: [ 3.01513672  5.21313477 13.82226562]:  1.8456836255349307\n",
      "Iteration 14: [ -1.69799805  -5.56213379 -19.85253906]:  1.724263014780542\n",
      "Iteration 15: [ 4.36413574  8.24420166 23.24853516]:  1.8228491952580512\n",
      "Iteration 16: [ -3.38006592  -9.43423462 -31.97680664]:  1.7457500496128864\n",
      "Iteration 17: [ 6.5541687  13.21131897 38.73693848]:  1.807337270772147\n",
      "Iteration 18: [ -6.15715027 -15.7898941  -51.84527588]:  1.759228090708016\n",
      "Iteration 19: [10.13274384 21.35626602 64.15957642]:  1.7973023662695227\n",
      "Iteration 20: [-10.72352219 -26.21802711 -84.42506409]:  1.7675720312366607\n",
      "Iteration 21: [ 15.99450493  34.71527958 105.87210846]:  1.7909737177075573\n",
      "Iteration 22: [ -18.22077465  -43.3256669  -137.86111832]:  1.7727025821565174\n",
      "Iteration 23: [ 25.60489225  56.62811303 174.30266762]:  1.7870381677369398\n",
      "Iteration 24: [ -30.52322078  -71.38972342 -225.51245213]:  1.77584574054635\n",
      "Iteration 25: [ 41.36650264  92.57297474 286.55889368]:  1.7846104343527618\n",
      "Iteration 26: [ -50.7064721  -117.42621079 -369.29189897]:  1.7777674155606251\n",
      "Iteration 27: [ 67.21973869 151.53608014 470.70484316]:  1.783119895791777\n",
      "Iteration 28: [ -83.81634144 -192.94425086 -605.14432055]:  1.778940914990494\n",
      "Iteration 29: [109.62790941 248.25820557 772.77700344]:  1.782207333113272\n",
      "Gauss-Seide method failed after N0 iterations! No convergence!\n"
     ]
    }
   ],
   "source": [
    "#Create the corresponding matrix\n",
    "A = np.array([[2,-2,1],\n",
    "             [1,2,1],\n",
    "             [2,-4,1]])\n",
    "\n",
    "#Create the Solution Vector\n",
    "b =  np.array([0,1,-1])\n",
    "\n",
    "#Run the model\n",
    "GaussSeidel(A, b, TOL, N)"
   ]
  },
  {
   "cell_type": "markdown",
   "metadata": {
    "deletable": false,
    "editable": false
   },
   "source": [
    "(c) Did the method converge to a solution for the cases as expected? Explain what you observe for Cases A-C."
   ]
  },
  {
   "cell_type": "markdown",
   "metadata": {},
   "source": [
    "Case C: Is not diagonally dominant which is important for convergance to occur with the use for the GaussSeidel method. The Gauss-Seidel method converges if the number of roots inside the unit circle is equal to the order of the iteration matrix."
   ]
  },
  {
   "cell_type": "markdown",
   "metadata": {
    "deletable": false,
    "editable": false
   },
   "source": [
    "## Question 2: Lagrange interpolation (5 marks)\n",
    "\n",
    "(a) Write a Python function called `InterpolateLagrange` that finds an approximation based on the $n^{\\text{th}}$ Lagrange interpolating polynomial of $n+1$ data points. It should take the $x$ and $y$ values of the data points as inputs, as well as the $x$ value of the desired approximation. It should then return the corresponding approximation of the $y$ value."
   ]
  },
  {
   "cell_type": "code",
   "execution_count": 2,
   "metadata": {},
   "outputs": [],
   "source": [
    "def InterpolateLagrange(x, y, xval):\n",
    "    '''\n",
    "    usage: InterpolateLagrange(x, y)\n",
    "        x: array of x-values\n",
    "        y: array of y-values\n",
    "           e.g.: x = np.array([0, 0.5, 1, 1.5, 2]), y = np.array([1, 1.2, 1.4, 1.7, 2.2])\n",
    "        xval: x-value, for which the y-value should be obtained\n",
    "           e.g.: xval = 1.25\n",
    "    output: \n",
    "        yval: y-value\n",
    "    '''\n",
    "    \n",
    "    ### BEGIN SOLUTION\n",
    "\n",
    "    n = len(x)\n",
    "    # Initialise yval, which will be a summation\n",
    "    yval = 0.0\n",
    "    \n",
    "    for i in range(n):\n",
    "        term_i = 1.0 # For the products in L_(n,i) we initialise termi to 1.\n",
    "        for j in range(n):\n",
    "            if (j != i):\n",
    "                term_i = term_i * (xval - x[j]) / (x[i] - x[j])\n",
    "        yval = yval + term_i * y[i] # Add to Lagrange interpolating polynomial \n",
    "    return yval\n",
    "    \n",
    "    ### END SOLUTION"
   ]
  },
  {
   "cell_type": "markdown",
   "metadata": {
    "deletable": false,
    "editable": false
   },
   "source": [
    "(b) Use `InterpolateLagrange` to plot the $n^{\\text{th}}$ Lagrange interpolating polynomial for the function\n",
    "\\begin{equation}\n",
    "f(x) = \\exp{\\left(-\\frac{1}{2}x^2\\right)}\n",
    "\\end{equation}\n",
    "over the interval $x\\in[-10,10]$ for $n=4$, $8$, $20$ and $40$. Use evenly spaced points in $x$."
   ]
  },
  {
   "cell_type": "code",
   "execution_count": 3,
   "metadata": {},
   "outputs": [],
   "source": [
    "def f(x):\n",
    "    return np.exp((-1/2)*x**2)"
   ]
  },
  {
   "cell_type": "code",
   "execution_count": 4,
   "metadata": {},
   "outputs": [
    {
     "data": {
      "text/plain": [
       "array([-10.        ,  -3.33333333,   3.33333333,  10.        ])"
      ]
     },
     "execution_count": 4,
     "metadata": {},
     "output_type": "execute_result"
    }
   ],
   "source": [
    "n=4\n",
    "new_x = np.linspace(-10,10,n)\n",
    "new_x"
   ]
  },
  {
   "cell_type": "code",
   "execution_count": 5,
   "metadata": {},
   "outputs": [],
   "source": [
    "def Interpolate(n):\n",
    "\n",
    "    x = np.linspace(-10,10,n) # generate n x equally spaced values between -10 and 10\n",
    "    y = f(x)                  # generate y values for each value of x\n",
    "\n",
    "    new_x = np.linspace(-10,10,100) #generate 100 equally spaced values between -10 and 10\n",
    "    new_y = new_x.copy()            #Returns a copy of the given object new_x\n",
    "\n",
    "    for i in range(len(new_x)):     \n",
    "        new_y[i] = InterpolateLagrange(x,y,new_x[i]) #Generate values for new_y for each value of new_x that pass through our values for x and y.\n",
    "    \n",
    "    # Plot function \n",
    "    plt.plot(new_x,new_y,'-')\n",
    "    plt.plot(x,y,'ro')\n",
    "    plt.ylabel('f(x)')\n",
    "    plt.xlabel('x')\n",
    "    plt.grid(True)    "
   ]
  },
  {
   "cell_type": "code",
   "execution_count": 6,
   "metadata": {
    "scrolled": false
   },
   "outputs": [
    {
     "data": {
      "image/png": "[encoded data removed]",
      "text/plain": [
       "<Figure size 432x288 with 1 Axes>"
      ]
     },
     "metadata": {
      "needs_background": "light"
     },
     "output_type": "display_data"
    }
   ],
   "source": [
    "# n=4\n",
    "\n",
    "n = 4\n",
    "\n",
    "Interpolate(n +1 )"
   ]
  },
  {
   "cell_type": "code",
   "execution_count": 7,
   "metadata": {},
   "outputs": [
    {
     "data": {
      "image/png": "[encoded data removed]",
      "text/plain": [
       "<Figure size 432x288 with 1 Axes>"
      ]
     },
     "metadata": {
      "needs_background": "light"
     },
     "output_type": "display_data"
    }
   ],
   "source": [
    "# n=8\n",
    "\n",
    "n = 8\n",
    "\n",
    "Interpolate(n+1)"
   ]
  },
  {
   "cell_type": "code",
   "execution_count": 8,
   "metadata": {
    "scrolled": false
   },
   "outputs": [
    {
     "data": {
      "image/png": "[encoded data removed]",
      "text/plain": [
       "<Figure size 432x288 with 1 Axes>"
      ]
     },
     "metadata": {
      "needs_background": "light"
     },
     "output_type": "display_data"
    }
   ],
   "source": [
    "# n=20\n",
    "\n",
    "n = 20\n",
    "\n",
    "Interpolate(n+1)  "
   ]
  },
  {
   "cell_type": "code",
   "execution_count": 9,
   "metadata": {
    "scrolled": false
   },
   "outputs": [
    {
     "data": {
      "image/png": "[encoded data removed]",
      "text/plain": [
       "<Figure size 432x288 with 1 Axes>"
      ]
     },
     "metadata": {
      "needs_background": "light"
     },
     "output_type": "display_data"
    }
   ],
   "source": [
    "# n=40\n",
    "\n",
    "n = 40\n",
    "\n",
    "Interpolate(n+1)  "
   ]
  },
  {
   "cell_type": "markdown",
   "metadata": {
    "deletable": false,
    "editable": false
   },
   "source": [
    "(c) Provide the first three derivatives of $f(x)$ (no working required) and plot them over the interval $[-10,10]$."
   ]
  },
  {
   "cell_type": "code",
   "execution_count": 10,
   "metadata": {},
   "outputs": [
    {
     "data": {
      "text/plain": [
       "<matplotlib.legend.Legend at 0x7f64f92eaee0>"
      ]
     },
     "execution_count": 10,
     "metadata": {},
     "output_type": "execute_result"
    },
    {
     "data": {
      "image/png": "[encoded data removed]",
      "text/plain": [
       "<Figure size 432x288 with 1 Axes>"
      ]
     },
     "metadata": {
      "needs_background": "light"
     },
     "output_type": "display_data"
    }
   ],
   "source": [
    "# First three derivatives of f(x)\n",
    "\n",
    "def d1(x):\n",
    "    return -x*np.exp((-1/2)*x**2)\n",
    "\n",
    "def d2(x):\n",
    "    return ((x**2)-1)*np.exp((-1/2)*x**2)\n",
    "\n",
    "def d3(x):\n",
    "    return (-x)*((x**2)-3)*np.exp((-1/2)*x**2)\n",
    "\n",
    "\n",
    "# PLot each of the First three derivatives of f(x)\n",
    "\n",
    "x = np.linspace(-10,10,1000)\n",
    "y1 = d1(x)\n",
    "y2 = d2(x)\n",
    "y3 = d3(x)\n",
    "\n",
    "plt.plot(x,y1, 'r', label = 'First Derivative')\n",
    "plt.plot(x,y2, 'g', label = 'Second Derivative')\n",
    "plt.plot(x,y3, 'b', label = 'Third Derivative')\n",
    "\n",
    "plt.ylabel('f(x)')\n",
    "plt.xlabel('x')\n",
    "plt.xlim(-10,10)\n",
    "plt.grid(True)\n",
    "plt.legend()"
   ]
  },
  {
   "cell_type": "markdown",
   "metadata": {
    "deletable": false,
    "editable": false
   },
   "source": [
    "(d) Describe what you observe above for the Lagrange interpolating polynomials of increasing $n$ and explain how the derivatives of $f(x)$ may contribute to this."
   ]
  },
  {
   "cell_type": "markdown",
   "metadata": {},
   "source": [
    "What can be seen in the figures above for n = 4, 8, 20, 40, is an example of interpolation divergance for a set of Lagrange polynomials. \n",
    "\n",
    "Lagrange and other interpolation at equally spaced points, as in the example above, yield a polynomial oscillating above and below the true function. This behaviour tends to grow with the number of points, leading to a divergence known as Runge's phenomenon.\n",
    "\n",
    "**Runge's phenomenon** is a problem of oscillation at the edges of an interval that occurs when using polynomial interpolation with polynomials of high degree over a set of equispaced interpolation points. \n",
    "\n",
    "Runge's phenomenon is the consequence of two properties of this problem. \n",
    "The magnitude of the n-th order derivatives of this particular function grows quickly when n increases. The equidistance between points leads to a Lebesgue constant that increases quickly when n increases.\n",
    "\n",
    "The phenomenon is graphically obvious because both properties combine to increase the magnitude of the oscillations. "
   ]
  }
 ],
 "metadata": {
  "kernelspec": {
   "display_name": "Python 3 (ipykernel)",
   "language": "python",
   "name": "python3"
  },
  "language_info": {
   "codemirror_mode": {
    "name": "ipython",
    "version": 3
   },
   "file_extension": ".py",
   "mimetype": "text/x-python",
   "name": "python",
   "nbconvert_exporter": "python",
   "pygments_lexer": "ipython3",
   "version": "3.9.7"
  }
 },
 "nbformat": 4,
 "nbformat_minor": 2
}
